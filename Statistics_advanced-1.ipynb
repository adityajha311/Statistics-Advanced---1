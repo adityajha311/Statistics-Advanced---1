{
 "cells": [
  {
   "cell_type": "markdown",
   "id": "7266b75c",
   "metadata": {},
   "source": [
    "### Q1. Explain the concept of correlation in statistics. How is it measured?\n",
    "**Answer:** Correlation measures the strength and direction of a linear relationship between two variables. It is measured using the correlation coefficient (r), which ranges from -1 (perfect negative) to +1 (perfect positive), with 0 meaning no linear correlation."
   ]
  },
  {
   "cell_type": "markdown",
   "id": "0f5d462e",
   "metadata": {},
   "source": [
    "### Q2. What is the difference between positive and negative correlation?\n",
    "**Answer:** - Positive correlation: As one variable increases, the other also increases (e.g., height vs. weight).\n",
    "- Negative correlation: As one variable increases, the other decreases (e.g., speed vs. travel time)."
   ]
  },
  {
   "cell_type": "markdown",
   "id": "76631ed6",
   "metadata": {},
   "source": [
    "### Q3. Define covariance. How does it differ from correlation?\n",
    "**Answer:** Covariance measures how two variables vary together.\n",
    "Correlation standardizes covariance to a range between -1 and +1, making it easier to interpret, while covariance can have any value and depends on units."
   ]
  },
  {
   "cell_type": "markdown",
   "id": "1c05a893",
   "metadata": {},
   "source": [
    "### Q4. What is the purpose of a scatter plot in data analysis?\n",
    "**Answer:** A scatter plot visually displays the relationship between two variables. It helps identify trends, patterns, and possible correlations between variables."
   ]
  },
  {
   "cell_type": "markdown",
   "id": "63801b50",
   "metadata": {},
   "source": [
    "### Q5. Explain the Pearson correlation coefficient.\n",
    "**Answer:** The Pearson correlation coefficient (r) measures the linear relationship between two variables. It’s calculated as:\n",
    "\n",
    "r = Cov(X,Y) / (σ_X * σ_Y) \n",
    "\n",
    "Where σ_X and σ_Y are standard deviations of X and Y."
   ]
  },
  {
   "cell_type": "markdown",
   "id": "3919a5fd",
   "metadata": {},
   "source": [
    "### Q6. What does a correlation coefficient of 0 imply?\n",
    "**Answer:** A correlation coefficient of 0 means there is no linear relationship between the variables. However, there might still be a non-linear relationship."
   ]
  },
  {
   "cell_type": "markdown",
   "id": "fa47b47b",
   "metadata": {},
   "source": [
    "### Q7. Can correlation imply causation? Why or why not?\n",
    "**Answer:** No — correlation does not imply causation because two variables may be related due to coincidence, a lurking variable, or indirect relationships."
   ]
  },
  {
   "cell_type": "markdown",
   "id": "4135441a",
   "metadata": {},
   "source": [
    "### Q8. What are some limitations of correlation analysis?\n",
    "**Answer:** - Only measures linear relationships.\n",
    "- Sensitive to outliers.\n",
    "- Does not imply causation.\n",
    "- May be affected by data range restrictions."
   ]
  },
  {
   "cell_type": "code",
   "execution_count": null,
   "id": "d793ae2b",
   "metadata": {},
   "outputs": [],
   "source": [
    "# Q9. Write a Python program to calculate the correlation coefficient between two lists of numbers.\n",
    "import numpy as np\n",
    "\n",
    "# Sample data\n",
    "x = [10, 20, 30, 40, 50]\n",
    "y = [12, 24, 33, 47, 55]\n",
    "\n",
    "# Calculate correlation coefficient\n",
    "correlation_matrix = np.corrcoef(x, y)\n",
    "correlation = correlation_matrix[0, 1]\n",
    "\n",
    "print(\"Correlation Coefficient:\", correlation)\n"
   ]
  },
  {
   "cell_type": "code",
   "execution_count": null,
   "id": "688f0023",
   "metadata": {},
   "outputs": [],
   "source": [
    "# Q10. Write a Python program to generate a scatter plot for two variables and display the correlation coefficient on the plot.\n",
    "import matplotlib.pyplot as plt\n",
    "import numpy as np\n",
    "\n",
    "# Sample data\n",
    "x = [10, 20, 30, 40, 50]\n",
    "y = [12, 24, 33, 47, 55]\n",
    "\n",
    "# Calculate correlation coefficient\n",
    "correlation = np.corrcoef(x, y)[0, 1]\n",
    "\n",
    "# Create scatter plot\n",
    "plt.scatter(x, y, color='blue')\n",
    "plt.title(f\"Scatter Plot (Correlation: {correlation:.2f})\")\n",
    "plt.xlabel(\"X values\")\n",
    "plt.ylabel(\"Y values\")\n",
    "plt.grid(True)\n",
    "plt.show()\n"
   ]
  }
 ],
 "metadata": {},
 "nbformat": 4,
 "nbformat_minor": 5
}
